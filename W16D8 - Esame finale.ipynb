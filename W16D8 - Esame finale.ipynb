{
 "cells": [
  {
   "cell_type": "markdown",
   "id": "0040caeb-4c77-4ddc-a9bc-98e2a97cdc3a",
   "metadata": {},
   "source": [
    "# Analisi diffusione COVID-19 nel mondo"
   ]
  },
  {
   "cell_type": "code",
   "execution_count": 1,
   "id": "1fd7eff0-0aad-4d43-9987-dc3dbe90e2a8",
   "metadata": {
    "tags": []
   },
   "outputs": [],
   "source": [
    "import pandas as pd"
   ]
  },
  {
   "cell_type": "code",
   "execution_count": 2,
   "id": "4df14d7f-eb52-45f1-82ec-2a03b7ac1382",
   "metadata": {
    "tags": []
   },
   "outputs": [
    {
     "name": "stderr",
     "output_type": "stream",
     "text": [
      "C:\\Users\\Luana\\AppData\\Local\\Temp\\ipykernel_132\\4117519349.py:1: DtypeWarning: Columns (33) have mixed types. Specify dtype option on import or set low_memory=False.\n",
      "  covid=pd.read_csv(r\"C:\\Users\\Luana\\Desktop\\CORSO EPICODE\\PYTHON\\owid-covid-data.csv\")\n"
     ]
    }
   ],
   "source": [
    "covid=pd.read_csv(r\"C:\\Users\\Luana\\Desktop\\CORSO EPICODE\\PYTHON\\owid-covid-data.csv\")"
   ]
  },
  {
   "cell_type": "code",
   "execution_count": 70,
   "id": "c5257147-b2f7-42f7-8f44-1faf43dd3f8f",
   "metadata": {
    "tags": []
   },
   "outputs": [
    {
     "data": {
      "text/html": [
       "<div>\n",
       "<style scoped>\n",
       "    .dataframe tbody tr th:only-of-type {\n",
       "        vertical-align: middle;\n",
       "    }\n",
       "\n",
       "    .dataframe tbody tr th {\n",
       "        vertical-align: top;\n",
       "    }\n",
       "\n",
       "    .dataframe thead th {\n",
       "        text-align: right;\n",
       "    }\n",
       "</style>\n",
       "<table border=\"1\" class=\"dataframe\">\n",
       "  <thead>\n",
       "    <tr style=\"text-align: right;\">\n",
       "      <th></th>\n",
       "      <th>iso_code</th>\n",
       "      <th>continent</th>\n",
       "      <th>location</th>\n",
       "      <th>date</th>\n",
       "      <th>total_cases</th>\n",
       "      <th>new_cases</th>\n",
       "      <th>new_cases_smoothed</th>\n",
       "      <th>total_deaths</th>\n",
       "      <th>new_deaths</th>\n",
       "      <th>new_deaths_smoothed</th>\n",
       "      <th>...</th>\n",
       "      <th>male_smokers</th>\n",
       "      <th>handwashing_facilities</th>\n",
       "      <th>hospital_beds_per_thousand</th>\n",
       "      <th>life_expectancy</th>\n",
       "      <th>human_development_index</th>\n",
       "      <th>population</th>\n",
       "      <th>excess_mortality_cumulative_absolute</th>\n",
       "      <th>excess_mortality_cumulative</th>\n",
       "      <th>excess_mortality</th>\n",
       "      <th>excess_mortality_cumulative_per_million</th>\n",
       "    </tr>\n",
       "  </thead>\n",
       "  <tbody>\n",
       "    <tr>\n",
       "      <th>0</th>\n",
       "      <td>AFG</td>\n",
       "      <td>Asia</td>\n",
       "      <td>Afghanistan</td>\n",
       "      <td>2020-01-05</td>\n",
       "      <td>NaN</td>\n",
       "      <td>0.0</td>\n",
       "      <td>NaN</td>\n",
       "      <td>NaN</td>\n",
       "      <td>0.0</td>\n",
       "      <td>NaN</td>\n",
       "      <td>...</td>\n",
       "      <td>NaN</td>\n",
       "      <td>37.746</td>\n",
       "      <td>0.5</td>\n",
       "      <td>64.83</td>\n",
       "      <td>0.511</td>\n",
       "      <td>41128772.0</td>\n",
       "      <td>NaN</td>\n",
       "      <td>NaN</td>\n",
       "      <td>NaN</td>\n",
       "      <td>NaN</td>\n",
       "    </tr>\n",
       "    <tr>\n",
       "      <th>1</th>\n",
       "      <td>AFG</td>\n",
       "      <td>Asia</td>\n",
       "      <td>Afghanistan</td>\n",
       "      <td>2020-01-06</td>\n",
       "      <td>NaN</td>\n",
       "      <td>0.0</td>\n",
       "      <td>NaN</td>\n",
       "      <td>NaN</td>\n",
       "      <td>0.0</td>\n",
       "      <td>NaN</td>\n",
       "      <td>...</td>\n",
       "      <td>NaN</td>\n",
       "      <td>37.746</td>\n",
       "      <td>0.5</td>\n",
       "      <td>64.83</td>\n",
       "      <td>0.511</td>\n",
       "      <td>41128772.0</td>\n",
       "      <td>NaN</td>\n",
       "      <td>NaN</td>\n",
       "      <td>NaN</td>\n",
       "      <td>NaN</td>\n",
       "    </tr>\n",
       "    <tr>\n",
       "      <th>2</th>\n",
       "      <td>AFG</td>\n",
       "      <td>Asia</td>\n",
       "      <td>Afghanistan</td>\n",
       "      <td>2020-01-07</td>\n",
       "      <td>NaN</td>\n",
       "      <td>0.0</td>\n",
       "      <td>NaN</td>\n",
       "      <td>NaN</td>\n",
       "      <td>0.0</td>\n",
       "      <td>NaN</td>\n",
       "      <td>...</td>\n",
       "      <td>NaN</td>\n",
       "      <td>37.746</td>\n",
       "      <td>0.5</td>\n",
       "      <td>64.83</td>\n",
       "      <td>0.511</td>\n",
       "      <td>41128772.0</td>\n",
       "      <td>NaN</td>\n",
       "      <td>NaN</td>\n",
       "      <td>NaN</td>\n",
       "      <td>NaN</td>\n",
       "    </tr>\n",
       "    <tr>\n",
       "      <th>3</th>\n",
       "      <td>AFG</td>\n",
       "      <td>Asia</td>\n",
       "      <td>Afghanistan</td>\n",
       "      <td>2020-01-08</td>\n",
       "      <td>NaN</td>\n",
       "      <td>0.0</td>\n",
       "      <td>NaN</td>\n",
       "      <td>NaN</td>\n",
       "      <td>0.0</td>\n",
       "      <td>NaN</td>\n",
       "      <td>...</td>\n",
       "      <td>NaN</td>\n",
       "      <td>37.746</td>\n",
       "      <td>0.5</td>\n",
       "      <td>64.83</td>\n",
       "      <td>0.511</td>\n",
       "      <td>41128772.0</td>\n",
       "      <td>NaN</td>\n",
       "      <td>NaN</td>\n",
       "      <td>NaN</td>\n",
       "      <td>NaN</td>\n",
       "    </tr>\n",
       "    <tr>\n",
       "      <th>4</th>\n",
       "      <td>AFG</td>\n",
       "      <td>Asia</td>\n",
       "      <td>Afghanistan</td>\n",
       "      <td>2020-01-09</td>\n",
       "      <td>NaN</td>\n",
       "      <td>0.0</td>\n",
       "      <td>NaN</td>\n",
       "      <td>NaN</td>\n",
       "      <td>0.0</td>\n",
       "      <td>NaN</td>\n",
       "      <td>...</td>\n",
       "      <td>NaN</td>\n",
       "      <td>37.746</td>\n",
       "      <td>0.5</td>\n",
       "      <td>64.83</td>\n",
       "      <td>0.511</td>\n",
       "      <td>41128772.0</td>\n",
       "      <td>NaN</td>\n",
       "      <td>NaN</td>\n",
       "      <td>NaN</td>\n",
       "      <td>NaN</td>\n",
       "    </tr>\n",
       "    <tr>\n",
       "      <th>...</th>\n",
       "      <td>...</td>\n",
       "      <td>...</td>\n",
       "      <td>...</td>\n",
       "      <td>...</td>\n",
       "      <td>...</td>\n",
       "      <td>...</td>\n",
       "      <td>...</td>\n",
       "      <td>...</td>\n",
       "      <td>...</td>\n",
       "      <td>...</td>\n",
       "      <td>...</td>\n",
       "      <td>...</td>\n",
       "      <td>...</td>\n",
       "      <td>...</td>\n",
       "      <td>...</td>\n",
       "      <td>...</td>\n",
       "      <td>...</td>\n",
       "      <td>...</td>\n",
       "      <td>...</td>\n",
       "      <td>...</td>\n",
       "      <td>...</td>\n",
       "    </tr>\n",
       "    <tr>\n",
       "      <th>376987</th>\n",
       "      <td>ZWE</td>\n",
       "      <td>Africa</td>\n",
       "      <td>Zimbabwe</td>\n",
       "      <td>2024-01-31</td>\n",
       "      <td>266265.0</td>\n",
       "      <td>0.0</td>\n",
       "      <td>4.429</td>\n",
       "      <td>5737.0</td>\n",
       "      <td>0.0</td>\n",
       "      <td>0.0</td>\n",
       "      <td>...</td>\n",
       "      <td>30.7</td>\n",
       "      <td>36.791</td>\n",
       "      <td>1.7</td>\n",
       "      <td>61.49</td>\n",
       "      <td>0.571</td>\n",
       "      <td>16320539.0</td>\n",
       "      <td>NaN</td>\n",
       "      <td>NaN</td>\n",
       "      <td>NaN</td>\n",
       "      <td>NaN</td>\n",
       "    </tr>\n",
       "    <tr>\n",
       "      <th>376988</th>\n",
       "      <td>ZWE</td>\n",
       "      <td>Africa</td>\n",
       "      <td>Zimbabwe</td>\n",
       "      <td>2024-02-01</td>\n",
       "      <td>266265.0</td>\n",
       "      <td>0.0</td>\n",
       "      <td>4.429</td>\n",
       "      <td>5737.0</td>\n",
       "      <td>0.0</td>\n",
       "      <td>0.0</td>\n",
       "      <td>...</td>\n",
       "      <td>30.7</td>\n",
       "      <td>36.791</td>\n",
       "      <td>1.7</td>\n",
       "      <td>61.49</td>\n",
       "      <td>0.571</td>\n",
       "      <td>16320539.0</td>\n",
       "      <td>NaN</td>\n",
       "      <td>NaN</td>\n",
       "      <td>NaN</td>\n",
       "      <td>NaN</td>\n",
       "    </tr>\n",
       "    <tr>\n",
       "      <th>376989</th>\n",
       "      <td>ZWE</td>\n",
       "      <td>Africa</td>\n",
       "      <td>Zimbabwe</td>\n",
       "      <td>2024-02-02</td>\n",
       "      <td>266265.0</td>\n",
       "      <td>0.0</td>\n",
       "      <td>4.429</td>\n",
       "      <td>5737.0</td>\n",
       "      <td>0.0</td>\n",
       "      <td>0.0</td>\n",
       "      <td>...</td>\n",
       "      <td>30.7</td>\n",
       "      <td>36.791</td>\n",
       "      <td>1.7</td>\n",
       "      <td>61.49</td>\n",
       "      <td>0.571</td>\n",
       "      <td>16320539.0</td>\n",
       "      <td>NaN</td>\n",
       "      <td>NaN</td>\n",
       "      <td>NaN</td>\n",
       "      <td>NaN</td>\n",
       "    </tr>\n",
       "    <tr>\n",
       "      <th>376990</th>\n",
       "      <td>ZWE</td>\n",
       "      <td>Africa</td>\n",
       "      <td>Zimbabwe</td>\n",
       "      <td>2024-02-03</td>\n",
       "      <td>266265.0</td>\n",
       "      <td>0.0</td>\n",
       "      <td>4.429</td>\n",
       "      <td>5737.0</td>\n",
       "      <td>0.0</td>\n",
       "      <td>0.0</td>\n",
       "      <td>...</td>\n",
       "      <td>30.7</td>\n",
       "      <td>36.791</td>\n",
       "      <td>1.7</td>\n",
       "      <td>61.49</td>\n",
       "      <td>0.571</td>\n",
       "      <td>16320539.0</td>\n",
       "      <td>NaN</td>\n",
       "      <td>NaN</td>\n",
       "      <td>NaN</td>\n",
       "      <td>NaN</td>\n",
       "    </tr>\n",
       "    <tr>\n",
       "      <th>376991</th>\n",
       "      <td>ZWE</td>\n",
       "      <td>Africa</td>\n",
       "      <td>Zimbabwe</td>\n",
       "      <td>2024-02-04</td>\n",
       "      <td>266265.0</td>\n",
       "      <td>0.0</td>\n",
       "      <td>0.000</td>\n",
       "      <td>5737.0</td>\n",
       "      <td>0.0</td>\n",
       "      <td>0.0</td>\n",
       "      <td>...</td>\n",
       "      <td>30.7</td>\n",
       "      <td>36.791</td>\n",
       "      <td>1.7</td>\n",
       "      <td>61.49</td>\n",
       "      <td>0.571</td>\n",
       "      <td>16320539.0</td>\n",
       "      <td>NaN</td>\n",
       "      <td>NaN</td>\n",
       "      <td>NaN</td>\n",
       "      <td>NaN</td>\n",
       "    </tr>\n",
       "  </tbody>\n",
       "</table>\n",
       "<p>376992 rows × 67 columns</p>\n",
       "</div>"
      ],
      "text/plain": [
       "       iso_code continent     location        date  total_cases  new_cases  \\\n",
       "0           AFG      Asia  Afghanistan  2020-01-05          NaN        0.0   \n",
       "1           AFG      Asia  Afghanistan  2020-01-06          NaN        0.0   \n",
       "2           AFG      Asia  Afghanistan  2020-01-07          NaN        0.0   \n",
       "3           AFG      Asia  Afghanistan  2020-01-08          NaN        0.0   \n",
       "4           AFG      Asia  Afghanistan  2020-01-09          NaN        0.0   \n",
       "...         ...       ...          ...         ...          ...        ...   \n",
       "376987      ZWE    Africa     Zimbabwe  2024-01-31     266265.0        0.0   \n",
       "376988      ZWE    Africa     Zimbabwe  2024-02-01     266265.0        0.0   \n",
       "376989      ZWE    Africa     Zimbabwe  2024-02-02     266265.0        0.0   \n",
       "376990      ZWE    Africa     Zimbabwe  2024-02-03     266265.0        0.0   \n",
       "376991      ZWE    Africa     Zimbabwe  2024-02-04     266265.0        0.0   \n",
       "\n",
       "        new_cases_smoothed  total_deaths  new_deaths  new_deaths_smoothed  \\\n",
       "0                      NaN           NaN         0.0                  NaN   \n",
       "1                      NaN           NaN         0.0                  NaN   \n",
       "2                      NaN           NaN         0.0                  NaN   \n",
       "3                      NaN           NaN         0.0                  NaN   \n",
       "4                      NaN           NaN         0.0                  NaN   \n",
       "...                    ...           ...         ...                  ...   \n",
       "376987               4.429        5737.0         0.0                  0.0   \n",
       "376988               4.429        5737.0         0.0                  0.0   \n",
       "376989               4.429        5737.0         0.0                  0.0   \n",
       "376990               4.429        5737.0         0.0                  0.0   \n",
       "376991               0.000        5737.0         0.0                  0.0   \n",
       "\n",
       "        ...  male_smokers  handwashing_facilities  hospital_beds_per_thousand  \\\n",
       "0       ...           NaN                  37.746                         0.5   \n",
       "1       ...           NaN                  37.746                         0.5   \n",
       "2       ...           NaN                  37.746                         0.5   \n",
       "3       ...           NaN                  37.746                         0.5   \n",
       "4       ...           NaN                  37.746                         0.5   \n",
       "...     ...           ...                     ...                         ...   \n",
       "376987  ...          30.7                  36.791                         1.7   \n",
       "376988  ...          30.7                  36.791                         1.7   \n",
       "376989  ...          30.7                  36.791                         1.7   \n",
       "376990  ...          30.7                  36.791                         1.7   \n",
       "376991  ...          30.7                  36.791                         1.7   \n",
       "\n",
       "        life_expectancy  human_development_index  population  \\\n",
       "0                 64.83                    0.511  41128772.0   \n",
       "1                 64.83                    0.511  41128772.0   \n",
       "2                 64.83                    0.511  41128772.0   \n",
       "3                 64.83                    0.511  41128772.0   \n",
       "4                 64.83                    0.511  41128772.0   \n",
       "...                 ...                      ...         ...   \n",
       "376987            61.49                    0.571  16320539.0   \n",
       "376988            61.49                    0.571  16320539.0   \n",
       "376989            61.49                    0.571  16320539.0   \n",
       "376990            61.49                    0.571  16320539.0   \n",
       "376991            61.49                    0.571  16320539.0   \n",
       "\n",
       "        excess_mortality_cumulative_absolute  excess_mortality_cumulative  \\\n",
       "0                                        NaN                          NaN   \n",
       "1                                        NaN                          NaN   \n",
       "2                                        NaN                          NaN   \n",
       "3                                        NaN                          NaN   \n",
       "4                                        NaN                          NaN   \n",
       "...                                      ...                          ...   \n",
       "376987                                   NaN                          NaN   \n",
       "376988                                   NaN                          NaN   \n",
       "376989                                   NaN                          NaN   \n",
       "376990                                   NaN                          NaN   \n",
       "376991                                   NaN                          NaN   \n",
       "\n",
       "        excess_mortality  excess_mortality_cumulative_per_million  \n",
       "0                    NaN                                      NaN  \n",
       "1                    NaN                                      NaN  \n",
       "2                    NaN                                      NaN  \n",
       "3                    NaN                                      NaN  \n",
       "4                    NaN                                      NaN  \n",
       "...                  ...                                      ...  \n",
       "376987               NaN                                      NaN  \n",
       "376988               NaN                                      NaN  \n",
       "376989               NaN                                      NaN  \n",
       "376990               NaN                                      NaN  \n",
       "376991               NaN                                      NaN  \n",
       "\n",
       "[376992 rows x 67 columns]"
      ]
     },
     "execution_count": 70,
     "metadata": {},
     "output_type": "execute_result"
    }
   ],
   "source": [
    "covid"
   ]
  },
  {
   "cell_type": "code",
   "execution_count": 6,
   "id": "af8ab05d-b395-4c56-8c29-f7a25adc7466",
   "metadata": {
    "tags": []
   },
   "outputs": [
    {
     "data": {
      "text/plain": [
       "(376992, 67)"
      ]
     },
     "execution_count": 6,
     "metadata": {},
     "output_type": "execute_result"
    }
   ],
   "source": [
    "covid.shape"
   ]
  },
  {
   "cell_type": "code",
   "execution_count": 7,
   "id": "7ed5dde0-a182-44db-9a0e-30d945c8db9c",
   "metadata": {
    "tags": []
   },
   "outputs": [
    {
     "data": {
      "text/html": [
       "<div>\n",
       "<style scoped>\n",
       "    .dataframe tbody tr th:only-of-type {\n",
       "        vertical-align: middle;\n",
       "    }\n",
       "\n",
       "    .dataframe tbody tr th {\n",
       "        vertical-align: top;\n",
       "    }\n",
       "\n",
       "    .dataframe thead th {\n",
       "        text-align: right;\n",
       "    }\n",
       "</style>\n",
       "<table border=\"1\" class=\"dataframe\">\n",
       "  <thead>\n",
       "    <tr style=\"text-align: right;\">\n",
       "      <th></th>\n",
       "      <th>total_cases</th>\n",
       "      <th>new_cases</th>\n",
       "      <th>new_cases_smoothed</th>\n",
       "      <th>total_deaths</th>\n",
       "      <th>new_deaths</th>\n",
       "      <th>new_deaths_smoothed</th>\n",
       "      <th>total_cases_per_million</th>\n",
       "      <th>new_cases_per_million</th>\n",
       "      <th>new_cases_smoothed_per_million</th>\n",
       "      <th>total_deaths_per_million</th>\n",
       "      <th>...</th>\n",
       "      <th>male_smokers</th>\n",
       "      <th>handwashing_facilities</th>\n",
       "      <th>hospital_beds_per_thousand</th>\n",
       "      <th>life_expectancy</th>\n",
       "      <th>human_development_index</th>\n",
       "      <th>population</th>\n",
       "      <th>excess_mortality_cumulative_absolute</th>\n",
       "      <th>excess_mortality_cumulative</th>\n",
       "      <th>excess_mortality</th>\n",
       "      <th>excess_mortality_cumulative_per_million</th>\n",
       "    </tr>\n",
       "  </thead>\n",
       "  <tbody>\n",
       "    <tr>\n",
       "      <th>count</th>\n",
       "      <td>3.380850e+05</td>\n",
       "      <td>3.661160e+05</td>\n",
       "      <td>3.648860e+05</td>\n",
       "      <td>3.161130e+05</td>\n",
       "      <td>366124.000000</td>\n",
       "      <td>364894.000000</td>\n",
       "      <td>338085.000000</td>\n",
       "      <td>366116.000000</td>\n",
       "      <td>364886.000000</td>\n",
       "      <td>316113.000000</td>\n",
       "      <td>...</td>\n",
       "      <td>216620.000000</td>\n",
       "      <td>143291.000000</td>\n",
       "      <td>258396.000000</td>\n",
       "      <td>347058.000000</td>\n",
       "      <td>283738.000000</td>\n",
       "      <td>3.769920e+05</td>\n",
       "      <td>1.304200e+04</td>\n",
       "      <td>13042.000000</td>\n",
       "      <td>13042.000000</td>\n",
       "      <td>13042.000000</td>\n",
       "    </tr>\n",
       "    <tr>\n",
       "      <th>mean</th>\n",
       "      <td>7.202762e+06</td>\n",
       "      <td>8.965883e+03</td>\n",
       "      <td>8.995879e+03</td>\n",
       "      <td>8.890612e+04</td>\n",
       "      <td>79.760174</td>\n",
       "      <td>80.028251</td>\n",
       "      <td>109569.889332</td>\n",
       "      <td>136.209725</td>\n",
       "      <td>136.659859</td>\n",
       "      <td>906.060829</td>\n",
       "      <td>...</td>\n",
       "      <td>32.909505</td>\n",
       "      <td>50.790423</td>\n",
       "      <td>3.097617</td>\n",
       "      <td>73.714639</td>\n",
       "      <td>0.722607</td>\n",
       "      <td>1.292887e+08</td>\n",
       "      <td>5.402698e+04</td>\n",
       "      <td>9.730153</td>\n",
       "      <td>11.051997</td>\n",
       "      <td>1755.727964</td>\n",
       "    </tr>\n",
       "    <tr>\n",
       "      <th>std</th>\n",
       "      <td>4.314687e+07</td>\n",
       "      <td>2.430048e+05</td>\n",
       "      <td>9.162390e+04</td>\n",
       "      <td>4.522645e+05</td>\n",
       "      <td>1444.166144</td>\n",
       "      <td>541.716519</td>\n",
       "      <td>157821.149563</td>\n",
       "      <td>1565.436549</td>\n",
       "      <td>579.005036</td>\n",
       "      <td>1123.610999</td>\n",
       "      <td>...</td>\n",
       "      <td>13.571151</td>\n",
       "      <td>31.952222</td>\n",
       "      <td>2.548065</td>\n",
       "      <td>7.395080</td>\n",
       "      <td>0.149008</td>\n",
       "      <td>6.634833e+08</td>\n",
       "      <td>1.502039e+05</td>\n",
       "      <td>11.993939</td>\n",
       "      <td>24.603504</td>\n",
       "      <td>1981.136603</td>\n",
       "    </tr>\n",
       "    <tr>\n",
       "      <th>min</th>\n",
       "      <td>1.000000e+00</td>\n",
       "      <td>0.000000e+00</td>\n",
       "      <td>0.000000e+00</td>\n",
       "      <td>1.000000e+00</td>\n",
       "      <td>0.000000</td>\n",
       "      <td>0.000000</td>\n",
       "      <td>0.000000</td>\n",
       "      <td>0.000000</td>\n",
       "      <td>0.000000</td>\n",
       "      <td>0.000000</td>\n",
       "      <td>...</td>\n",
       "      <td>7.700000</td>\n",
       "      <td>1.188000</td>\n",
       "      <td>0.100000</td>\n",
       "      <td>53.280000</td>\n",
       "      <td>0.394000</td>\n",
       "      <td>4.700000e+01</td>\n",
       "      <td>-3.772610e+04</td>\n",
       "      <td>-44.230000</td>\n",
       "      <td>-95.920000</td>\n",
       "      <td>-2936.453100</td>\n",
       "    </tr>\n",
       "    <tr>\n",
       "      <th>25%</th>\n",
       "      <td>9.106000e+03</td>\n",
       "      <td>0.000000e+00</td>\n",
       "      <td>1.430000e-01</td>\n",
       "      <td>1.330000e+02</td>\n",
       "      <td>0.000000</td>\n",
       "      <td>0.000000</td>\n",
       "      <td>2861.381000</td>\n",
       "      <td>0.000000</td>\n",
       "      <td>0.004000</td>\n",
       "      <td>64.652000</td>\n",
       "      <td>...</td>\n",
       "      <td>22.600000</td>\n",
       "      <td>20.859000</td>\n",
       "      <td>1.300000</td>\n",
       "      <td>69.590000</td>\n",
       "      <td>0.602000</td>\n",
       "      <td>4.490020e+05</td>\n",
       "      <td>1.650250e+02</td>\n",
       "      <td>1.910000</td>\n",
       "      <td>-1.470000</td>\n",
       "      <td>107.907717</td>\n",
       "    </tr>\n",
       "    <tr>\n",
       "      <th>50%</th>\n",
       "      <td>7.676400e+04</td>\n",
       "      <td>0.000000e+00</td>\n",
       "      <td>1.957100e+01</td>\n",
       "      <td>1.369000e+03</td>\n",
       "      <td>0.000000</td>\n",
       "      <td>0.143000</td>\n",
       "      <td>31845.405000</td>\n",
       "      <td>0.000000</td>\n",
       "      <td>4.965000</td>\n",
       "      <td>402.205000</td>\n",
       "      <td>...</td>\n",
       "      <td>33.100000</td>\n",
       "      <td>49.839000</td>\n",
       "      <td>2.500000</td>\n",
       "      <td>75.050000</td>\n",
       "      <td>0.740000</td>\n",
       "      <td>5.882259e+06</td>\n",
       "      <td>6.662499e+03</td>\n",
       "      <td>8.120000</td>\n",
       "      <td>5.680000</td>\n",
       "      <td>1226.746550</td>\n",
       "    </tr>\n",
       "    <tr>\n",
       "      <th>75%</th>\n",
       "      <td>8.320440e+05</td>\n",
       "      <td>0.000000e+00</td>\n",
       "      <td>4.332860e+02</td>\n",
       "      <td>1.225000e+04</td>\n",
       "      <td>0.000000</td>\n",
       "      <td>4.286000</td>\n",
       "      <td>151421.861000</td>\n",
       "      <td>0.000000</td>\n",
       "      <td>72.599000</td>\n",
       "      <td>1445.078000</td>\n",
       "      <td>...</td>\n",
       "      <td>41.300000</td>\n",
       "      <td>82.502000</td>\n",
       "      <td>4.200000</td>\n",
       "      <td>79.460000</td>\n",
       "      <td>0.829000</td>\n",
       "      <td>2.830170e+07</td>\n",
       "      <td>3.869505e+04</td>\n",
       "      <td>15.060000</td>\n",
       "      <td>15.757500</td>\n",
       "      <td>2856.920400</td>\n",
       "    </tr>\n",
       "    <tr>\n",
       "      <th>max</th>\n",
       "      <td>7.744934e+08</td>\n",
       "      <td>4.423623e+07</td>\n",
       "      <td>6.319461e+06</td>\n",
       "      <td>7.026534e+06</td>\n",
       "      <td>103719.000000</td>\n",
       "      <td>14817.000000</td>\n",
       "      <td>763475.441000</td>\n",
       "      <td>240325.866000</td>\n",
       "      <td>34332.267000</td>\n",
       "      <td>6507.656000</td>\n",
       "      <td>...</td>\n",
       "      <td>78.100000</td>\n",
       "      <td>100.000000</td>\n",
       "      <td>13.800000</td>\n",
       "      <td>86.750000</td>\n",
       "      <td>0.957000</td>\n",
       "      <td>7.975105e+09</td>\n",
       "      <td>1.327828e+06</td>\n",
       "      <td>76.620000</td>\n",
       "      <td>377.700000</td>\n",
       "      <td>10293.515000</td>\n",
       "    </tr>\n",
       "  </tbody>\n",
       "</table>\n",
       "<p>8 rows × 62 columns</p>\n",
       "</div>"
      ],
      "text/plain": [
       "        total_cases     new_cases  new_cases_smoothed  total_deaths  \\\n",
       "count  3.380850e+05  3.661160e+05        3.648860e+05  3.161130e+05   \n",
       "mean   7.202762e+06  8.965883e+03        8.995879e+03  8.890612e+04   \n",
       "std    4.314687e+07  2.430048e+05        9.162390e+04  4.522645e+05   \n",
       "min    1.000000e+00  0.000000e+00        0.000000e+00  1.000000e+00   \n",
       "25%    9.106000e+03  0.000000e+00        1.430000e-01  1.330000e+02   \n",
       "50%    7.676400e+04  0.000000e+00        1.957100e+01  1.369000e+03   \n",
       "75%    8.320440e+05  0.000000e+00        4.332860e+02  1.225000e+04   \n",
       "max    7.744934e+08  4.423623e+07        6.319461e+06  7.026534e+06   \n",
       "\n",
       "          new_deaths  new_deaths_smoothed  total_cases_per_million  \\\n",
       "count  366124.000000        364894.000000            338085.000000   \n",
       "mean       79.760174            80.028251            109569.889332   \n",
       "std      1444.166144           541.716519            157821.149563   \n",
       "min         0.000000             0.000000                 0.000000   \n",
       "25%         0.000000             0.000000              2861.381000   \n",
       "50%         0.000000             0.143000             31845.405000   \n",
       "75%         0.000000             4.286000            151421.861000   \n",
       "max    103719.000000         14817.000000            763475.441000   \n",
       "\n",
       "       new_cases_per_million  new_cases_smoothed_per_million  \\\n",
       "count          366116.000000                   364886.000000   \n",
       "mean              136.209725                      136.659859   \n",
       "std              1565.436549                      579.005036   \n",
       "min                 0.000000                        0.000000   \n",
       "25%                 0.000000                        0.004000   \n",
       "50%                 0.000000                        4.965000   \n",
       "75%                 0.000000                       72.599000   \n",
       "max            240325.866000                    34332.267000   \n",
       "\n",
       "       total_deaths_per_million  ...   male_smokers  handwashing_facilities  \\\n",
       "count             316113.000000  ...  216620.000000           143291.000000   \n",
       "mean                 906.060829  ...      32.909505               50.790423   \n",
       "std                 1123.610999  ...      13.571151               31.952222   \n",
       "min                    0.000000  ...       7.700000                1.188000   \n",
       "25%                   64.652000  ...      22.600000               20.859000   \n",
       "50%                  402.205000  ...      33.100000               49.839000   \n",
       "75%                 1445.078000  ...      41.300000               82.502000   \n",
       "max                 6507.656000  ...      78.100000              100.000000   \n",
       "\n",
       "       hospital_beds_per_thousand  life_expectancy  human_development_index  \\\n",
       "count               258396.000000    347058.000000            283738.000000   \n",
       "mean                     3.097617        73.714639                 0.722607   \n",
       "std                      2.548065         7.395080                 0.149008   \n",
       "min                      0.100000        53.280000                 0.394000   \n",
       "25%                      1.300000        69.590000                 0.602000   \n",
       "50%                      2.500000        75.050000                 0.740000   \n",
       "75%                      4.200000        79.460000                 0.829000   \n",
       "max                     13.800000        86.750000                 0.957000   \n",
       "\n",
       "         population  excess_mortality_cumulative_absolute  \\\n",
       "count  3.769920e+05                          1.304200e+04   \n",
       "mean   1.292887e+08                          5.402698e+04   \n",
       "std    6.634833e+08                          1.502039e+05   \n",
       "min    4.700000e+01                         -3.772610e+04   \n",
       "25%    4.490020e+05                          1.650250e+02   \n",
       "50%    5.882259e+06                          6.662499e+03   \n",
       "75%    2.830170e+07                          3.869505e+04   \n",
       "max    7.975105e+09                          1.327828e+06   \n",
       "\n",
       "       excess_mortality_cumulative  excess_mortality  \\\n",
       "count                 13042.000000      13042.000000   \n",
       "mean                      9.730153         11.051997   \n",
       "std                      11.993939         24.603504   \n",
       "min                     -44.230000        -95.920000   \n",
       "25%                       1.910000         -1.470000   \n",
       "50%                       8.120000          5.680000   \n",
       "75%                      15.060000         15.757500   \n",
       "max                      76.620000        377.700000   \n",
       "\n",
       "       excess_mortality_cumulative_per_million  \n",
       "count                             13042.000000  \n",
       "mean                               1755.727964  \n",
       "std                                1981.136603  \n",
       "min                               -2936.453100  \n",
       "25%                                 107.907717  \n",
       "50%                                1226.746550  \n",
       "75%                                2856.920400  \n",
       "max                               10293.515000  \n",
       "\n",
       "[8 rows x 62 columns]"
      ]
     },
     "execution_count": 7,
     "metadata": {},
     "output_type": "execute_result"
    }
   ],
   "source": [
    "covid.describe()"
   ]
  },
  {
   "cell_type": "code",
   "execution_count": 126,
   "id": "9bf15ec5-3640-4025-a170-a832b8b1aef9",
   "metadata": {
    "tags": []
   },
   "outputs": [
    {
     "data": {
      "text/plain": [
       "Index(['iso_code', 'continent', 'location', 'date', 'total_cases', 'new_cases',\n",
       "       'new_cases_smoothed', 'total_deaths', 'new_deaths',\n",
       "       'new_deaths_smoothed', 'total_cases_per_million',\n",
       "       'new_cases_per_million', 'new_cases_smoothed_per_million',\n",
       "       'total_deaths_per_million', 'new_deaths_per_million',\n",
       "       'new_deaths_smoothed_per_million', 'reproduction_rate', 'icu_patients',\n",
       "       'icu_patients_per_million', 'hosp_patients',\n",
       "       'hosp_patients_per_million', 'weekly_icu_admissions',\n",
       "       'weekly_icu_admissions_per_million', 'weekly_hosp_admissions',\n",
       "       'weekly_hosp_admissions_per_million', 'total_tests', 'new_tests',\n",
       "       'total_tests_per_thousand', 'new_tests_per_thousand',\n",
       "       'new_tests_smoothed', 'new_tests_smoothed_per_thousand',\n",
       "       'positive_rate', 'tests_per_case', 'tests_units', 'total_vaccinations',\n",
       "       'people_vaccinated', 'people_fully_vaccinated', 'total_boosters',\n",
       "       'new_vaccinations', 'new_vaccinations_smoothed',\n",
       "       'total_vaccinations_per_hundred', 'people_vaccinated_per_hundred',\n",
       "       'people_fully_vaccinated_per_hundred', 'total_boosters_per_hundred',\n",
       "       'new_vaccinations_smoothed_per_million',\n",
       "       'new_people_vaccinated_smoothed',\n",
       "       'new_people_vaccinated_smoothed_per_hundred', 'stringency_index',\n",
       "       'population_density', 'median_age', 'aged_65_older', 'aged_70_older',\n",
       "       'gdp_per_capita', 'extreme_poverty', 'cardiovasc_death_rate',\n",
       "       'diabetes_prevalence', 'female_smokers', 'male_smokers',\n",
       "       'handwashing_facilities', 'hospital_beds_per_thousand',\n",
       "       'life_expectancy', 'human_development_index', 'population',\n",
       "       'excess_mortality_cumulative_absolute', 'excess_mortality_cumulative',\n",
       "       'excess_mortality', 'excess_mortality_cumulative_per_million'],\n",
       "      dtype='object')"
      ]
     },
     "execution_count": 126,
     "metadata": {},
     "output_type": "execute_result"
    }
   ],
   "source": [
    "covid.columns"
   ]
  },
  {
   "cell_type": "markdown",
   "id": "cacd2b51-7422-42ca-b8ae-46d342ba7090",
   "metadata": {},
   "source": [
    "#### Si chiede poi per ogni continente di trovare il numero di casi totali avvenuti in quello stesso continente; si chiede di non considerare eventuali locazioni che nel dataset non appartengono ad alcun continente;"
   ]
  },
  {
   "cell_type": "code",
   "execution_count": 103,
   "id": "ed8384e0-e537-4e74-90ef-2f537284cd35",
   "metadata": {
    "tags": []
   },
   "outputs": [
    {
     "data": {
      "text/plain": [
       "continent      location    \n",
       "Africa         Algeria          272010.0\n",
       "               Angola           107084.0\n",
       "               Benin             28036.0\n",
       "               Botswana         330417.0\n",
       "               Burkina Faso      22109.0\n",
       "                                 ...    \n",
       "South America  Paraguay         736275.0\n",
       "               Peru            4536733.0\n",
       "               Suriname          82506.0\n",
       "               Uruguay         1041111.0\n",
       "               Venezuela        552695.0\n",
       "Name: new_cases, Length: 243, dtype: float64"
      ]
     },
     "execution_count": 103,
     "metadata": {},
     "output_type": "execute_result"
    }
   ],
   "source": [
    "casi_totali=covid.groupby(['continent','location'])['new_cases'].sum()\n",
    "casi_totali\n"
   ]
  },
  {
   "cell_type": "markdown",
   "id": "5ec977f7-a593-4d87-ab18-b278177fedea",
   "metadata": {},
   "source": [
    "#### Sempre riguardo i casi di COVID totali, si chiede di sviluppare una funzione che prenda in input il dataset e due nomi di continenti, e che ne confronti i seguenti relativi descrittori statistici: valori minimo e massimo, media, e percentuale rispetto al numero dei casi totali nel mondo (calcolati anche sulle locazioni senza indicazione di continente);"
   ]
  },
  {
   "cell_type": "code",
   "execution_count": 54,
   "id": "ed0bb943-843d-4406-8623-0338edd7cd78",
   "metadata": {
    "tags": []
   },
   "outputs": [],
   "source": [
    "continent=['Africa','Asia','Europe','North America','Oceania','South America']\n",
    "\n",
    "def descrittori(covid):\n",
    "    if covid[(covid['continent']=='Europe')].all:\n",
    "        massimo=covid.groupby('continent') ['new_cases'].max()\n",
    "        minimo=covid.groupby('continent') ['new_cases'].min()\n",
    "        media=covid.groupby('continent') ['new_cases'].mean()\n",
    "        \n",
    "    print (f' il massimo in europa è :' , {massimo['Europe']} ,\n",
    "           f'la media in europa è :' , { media['Europe']},\n",
    "           f'il minimo in europa è :' , { minimo['Europe']},\n",
    "           f'il massimo in asia è :' , { massimo['Asia']},\n",
    "           f'la media in asia è :' , { media['Asia']},\n",
    "           f'il minimo in asia è :' , { media['Asia']})\n",
    "    "
   ]
  },
  {
   "cell_type": "code",
   "execution_count": 60,
   "id": "e44cd589-3445-4af4-a0e3-8d9a6b024740",
   "metadata": {
    "tags": []
   },
   "outputs": [
    {
     "name": "stdout",
     "output_type": "stream",
     "text": [
      " il massimo in europa è : {2417043.0} la media in europa è : {3339.960373207517} il minimo in europa è : {0.0} il massimo in asia è : {40475477.0} la media in asia è : {4298.158525976526} il minimo in asia è : {4298.158525976526}\n"
     ]
    }
   ],
   "source": [
    "descrittori(covid)"
   ]
  },
  {
   "cell_type": "code",
   "execution_count": 56,
   "id": "c56dc3cb-bc66-4dcb-bdb2-1b833b058bae",
   "metadata": {
    "tags": []
   },
   "outputs": [],
   "source": [
    "import matplotlib.pyplot as plt"
   ]
  },
  {
   "cell_type": "code",
   "execution_count": 127,
   "id": "d86977ab-ce70-4164-b1fd-4f0f6bc72afe",
   "metadata": {
    "tags": []
   },
   "outputs": [
    {
     "data": {
      "text/plain": [
       "continent\n",
       "Africa            13136517.0\n",
       "Asia             301391174.0\n",
       "Europe           252013370.0\n",
       "North America    124526003.0\n",
       "Oceania           14741735.0\n",
       "South America     68752780.0\n",
       "Name: new_cases, dtype: float64"
      ]
     },
     "execution_count": 127,
     "metadata": {},
     "output_type": "execute_result"
    }
   ],
   "source": [
    "continenti=covid.groupby('continent')['new_cases'].sum()\n",
    "continenti\n"
   ]
  },
  {
   "cell_type": "code",
   "execution_count": 128,
   "id": "f56cdc7e-a533-4da8-b494-fa2618f04db1",
   "metadata": {
    "tags": []
   },
   "outputs": [
    {
     "data": {
      "text/plain": [
       "774561579.0"
      ]
     },
     "execution_count": 128,
     "metadata": {},
     "output_type": "execute_result"
    }
   ],
   "source": [
    "totale_casi=continenti.sum()\n",
    "totale_casi"
   ]
  },
  {
   "cell_type": "code",
   "execution_count": 129,
   "id": "fa647d35-dcf3-48a6-bef8-a86c3886cecf",
   "metadata": {
    "tags": []
   },
   "outputs": [
    {
     "data": {
      "text/plain": [
       "continent\n",
       "Africa           0.016960\n",
       "Asia             0.389112\n",
       "Europe           0.325363\n",
       "North America    0.160770\n",
       "Oceania          0.019032\n",
       "South America    0.088763\n",
       "Name: new_cases, dtype: float64"
      ]
     },
     "execution_count": 129,
     "metadata": {},
     "output_type": "execute_result"
    }
   ],
   "source": [
    "percentuale_casi=continenti/totale_casi\n",
    "percentuale_casi"
   ]
  },
  {
   "cell_type": "code",
   "execution_count": 130,
   "id": "149f289c-062f-4ff5-a358-2618530b7ea2",
   "metadata": {},
   "outputs": [
    {
     "data": {
      "text/plain": [
       "<Axes: xlabel='continent'>"
      ]
     },
     "execution_count": 130,
     "metadata": {},
     "output_type": "execute_result"
    },
    {
     "data": {
      "image/png": "[encoded data removed]",
      "text/plain": [
       "<Figure size 640x480 with 1 Axes>"
      ]
     },
     "metadata": {},
     "output_type": "display_data"
    }
   ],
   "source": [
    "continenti.plot()"
   ]
  },
  {
   "cell_type": "code",
   "execution_count": 94,
   "id": "696cec92-aa51-4709-9b29-ddc7dab5e171",
   "metadata": {
    "tags": []
   },
   "outputs": [
    {
     "data": {
      "text/plain": [
       "<Axes: xlabel='continent'>"
      ]
     },
     "execution_count": 94,
     "metadata": {},
     "output_type": "execute_result"
    },
    {
     "data": {
      "image/png": "[encoded data removed]",
      "text/plain": [
       "<Figure size 640x480 with 1 Axes>"
      ]
     },
     "metadata": {},
     "output_type": "display_data"
    }
   ],
   "source": [
    "percentuale_casi.plot()"
   ]
  },
  {
   "cell_type": "markdown",
   "id": "f8c33e01-a33e-47e0-bceb-d1601e7a2092",
   "metadata": {},
   "source": [
    "#### Si chiede poi di effettuare lo stesso tipo di analisi – anche in questo caso sviluppando una funzione ad hoc – per il numero di vaccinazioni totali per ogni continente;"
   ]
  },
  {
   "cell_type": "code",
   "execution_count": 123,
   "id": "8d73164b-792f-49a8-817a-06891520c5e3",
   "metadata": {
    "tags": []
   },
   "outputs": [],
   "source": [
    "def vaccini(covid):\n",
    "    vaccini_totali=covid.groupby('continent')['total_vaccinations'].sum()\n",
    "    return vaccini_totali\n"
   ]
  },
  {
   "cell_type": "code",
   "execution_count": 142,
   "id": "ce0f8c94-e71a-4208-ba08-283b59fa219d",
   "metadata": {
    "tags": []
   },
   "outputs": [
    {
     "data": {
      "text/plain": [
       "continent\n",
       "Africa           5.081307e+10\n",
       "Asia             4.323161e+12\n",
       "Europe           7.251537e+11\n",
       "North America    5.709678e+11\n",
       "Oceania          2.599179e+10\n",
       "South America    4.271463e+11\n",
       "Name: total_vaccinations, dtype: float64"
      ]
     },
     "execution_count": 142,
     "metadata": {},
     "output_type": "execute_result"
    }
   ],
   "source": [
    "vaccini_tot=vaccini(covid)\n",
    "vaccini_tot"
   ]
  },
  {
   "cell_type": "code",
   "execution_count": 136,
   "id": "2199f3ea-7afc-49d3-b2ee-18d23d13cc42",
   "metadata": {
    "tags": []
   },
   "outputs": [
    {
     "data": {
      "text/plain": [
       "<Axes: xlabel='continent'>"
      ]
     },
     "execution_count": 136,
     "metadata": {},
     "output_type": "execute_result"
    },
    {
     "data": {
      "image/png": "[encoded data removed]",
      "text/plain": [
       "<Figure size 640x480 with 1 Axes>"
      ]
     },
     "metadata": {},
     "output_type": "display_data"
    }
   ],
   "source": [
    "vaccini_tot.plot()"
   ]
  },
  {
   "cell_type": "markdown",
   "id": "6c266701-9180-4961-ac57-a38669c8381b",
   "metadata": {},
   "source": [
    "#### •Alla fine, basandosi sui calcoli fatti, il committente chiede di stilare un breve (tre o quattro righe) paragrafo testuale riassuntivo sulle statistiche di casi e vaccinazioni, che si concentri solo sulle differenze esistenti tra Europa, Sud "
   ]
  },
  {
   "cell_type": "markdown",
   "id": "995eb094-57ce-4761-80a6-d90c8d3ff741",
   "metadata": {},
   "source": [
    "''' Ho confrontato i casi totali e il numero di vaccinazioni fatte nei vari continenti.\n",
    "Possiamo notare che in Europa è stato registrato il maggior numero di casi (252.013.370) rispetto all'Africa(13.136.517) e al SudAmerica(68.752.780). \n",
    "A fronte dei casi registrati, le vaccinazioni fatte sono state in Europa circa 7.251.537, in Africa 5.081.307 e in SudAmerica 4.271.463.\n",
    "Ma possiamo dedurre che il  totale dei vaccini non è proporzionare all'aumento dei casi totali nei vari paesi.\n",
    "In Europa, sono stati osservati il maggior numero di casi ma la percentuale dei vaccini è inferiore alla metà dei casi registrati.'''"
   ]
  },
  {
   "cell_type": "code",
   "execution_count": null,
   "id": "342ae5f4-ae1c-4b62-a5e3-7b1d70620f09",
   "metadata": {},
   "outputs": [],
   "source": []
  }
 ],
 "metadata": {
  "kernelspec": {
   "display_name": "Python 3 (ipykernel)",
   "language": "python",
   "name": "python3"
  },
  "language_info": {
   "codemirror_mode": {
    "name": "ipython",
    "version": 3
   },
   "file_extension": ".py",
   "mimetype": "text/x-python",
   "name": "python",
   "nbconvert_exporter": "python",
   "pygments_lexer": "ipython3",
   "version": "3.11.5"
  }
 },
 "nbformat": 4,
 "nbformat_minor": 5
}
